{
 "cells": [
  {
   "cell_type": "markdown",
   "id": "3a673933",
   "metadata": {},
   "source": [
    "# Second Module\n",
    "\n",
    "> This is our second module"
   ]
  },
  {
   "cell_type": "code",
   "execution_count": null,
   "id": "77c75a8f",
   "metadata": {},
   "outputs": [],
   "source": [
    "#| default_exp core_2"
   ]
  },
  {
   "cell_type": "code",
   "execution_count": null,
   "id": "6f18255a",
   "metadata": {},
   "outputs": [],
   "source": [
    "#| hide\n",
    "from nbdev.showdoc import *"
   ]
  },
  {
   "cell_type": "code",
   "execution_count": null,
   "id": "893e34b9",
   "metadata": {},
   "outputs": [],
   "source": [
    "#| export\n",
    "def sample_main(name:str):\n",
    "    \"This is a sample function from the first module\"\n",
    "    \n",
    "    print(f\"Hello {name}!!\")"
   ]
  },
  {
   "cell_type": "code",
   "execution_count": null,
   "id": "de65afc6",
   "metadata": {},
   "outputs": [],
   "source": [
    "#| export\n",
    "def add(a:int, b:int):\n",
    "    \"Function to add two numbers\"\n",
    "    \n",
    "    print(f\"Sum of two numbers: {a+b}\")\n",
    "    return a+b"
   ]
  },
  {
   "cell_type": "code",
   "execution_count": null,
   "id": "b660beb0",
   "metadata": {},
   "outputs": [],
   "source": [
    "assert add(1,2) == 3"
   ]
  },
  {
   "cell_type": "code",
   "execution_count": null,
   "id": "df64f872",
   "metadata": {},
   "outputs": [],
   "source": [
    "#| hide\n",
    "import nbdev; nbdev.nbdev_export()"
   ]
  }
 ],
 "metadata": {
  "kernelspec": {
   "display_name": "python3",
   "language": "python",
   "name": "python3"
  }
 },
 "nbformat": 4,
 "nbformat_minor": 5
}
